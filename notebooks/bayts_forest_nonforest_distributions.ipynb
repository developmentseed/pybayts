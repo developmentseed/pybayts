{
 "cells": [
  {
   "cell_type": "markdown",
   "metadata": {},
   "source": [
    "### Compute zonal statisitics for Landsat 8 and Senintel 1 within select AOIs.\n",
    "\n",
    "Author: @developmentseed\n"
   ]
  },
  {
   "cell_type": "code",
   "execution_count": 109,
   "metadata": {
    "scrolled": true
   },
   "outputs": [],
   "source": [
    "import os, glob, fnmatch\n",
    "import json, geojson\n",
    "from collections import defaultdict\n",
    "import rasterio\n",
    "import numpy as np\n",
    "import rasterstats\n",
    "from rasterstats import zonal_stats\n",
    "\n",
    "from enum import Enum\n",
    "import numpy\n",
    "from typing import Iterable\n",
    "\n",
    "import rioxarray\n",
    "import xarray\n",
    "import rioxarray\n",
    "from rioxarray.merge import merge_arrays\n",
    "import pandas as pd\n",
    "import argparse\n",
    "\n",
    "import matplotlib.pyplot as plt"
   ]
  },
  {
   "cell_type": "code",
   "execution_count": 110,
   "metadata": {},
   "outputs": [],
   "source": [
    "import os \n",
    "import folium\n",
    "from folium import plugins\n",
    "from rasterio.warp import calculate_default_transform, reproject, Resampling"
   ]
  },
  {
   "cell_type": "markdown",
   "metadata": {},
   "source": [
    "#### Forest vs. Non-forest\n",
    "For demonstration purposes, we have selected two small subset areas in Brazil to sample forest and non-forest probabilities from. You can see them on the map below. We will compute the zonal statistics for these cross sections of the AOI. Optional code for mosaicing and clipping follows."
   ]
  },
  {
   "cell_type": "code",
   "execution_count": 111,
   "metadata": {},
   "outputs": [],
   "source": [
    "root_dir = '/Users/lillythomas/Downloads/'"
   ]
  },
  {
   "cell_type": "code",
   "execution_count": 112,
   "metadata": {},
   "outputs": [
    {
     "data": {
      "text/plain": [
       "<folium.features.GeoJson at 0x14b415a20>"
      ]
     },
     "execution_count": 112,
     "metadata": {},
     "output_type": "execute_result"
    }
   ],
   "source": [
    "# Create a map using Stamen Terrain, centered on study area with set zoom level\n",
    "m = folium.Map(location=[-3.73725, -51.59917],\n",
    "                   zoom_start = 12)\n",
    "\n",
    "# Overlay raster called img using add_child() function (opacity and bounding box set)\n",
    "folium.GeoJson(os.path.join(root_dir,'para_forest.geojson'), name=\"geojson\").add_to(m)\n",
    "folium.GeoJson(os.path.join(root_dir,'para_nonforest.geojson'), name=\"geojson\").add_to(m)\n"
   ]
  },
  {
   "cell_type": "code",
   "execution_count": 113,
   "metadata": {},
   "outputs": [
    {
     "data": {
      "text/html": [
       "<div style=\"width:100%;\"><div style=\"position:relative;width:100%;height:0;padding-bottom:60%;\"><span style=\"color:#565656\">Make this Notebook Trusted to load map: File -> Trust Notebook</span><iframe src=\"about:blank\" style=\"position:absolute;width:100%;height:100%;left:0;top:0;border:none !important;\" data-html=%3C%21DOCTYPE%20html%3E%0A%3Chead%3E%20%20%20%20%0A%20%20%20%20%3Cmeta%20http-equiv%3D%22content-type%22%20content%3D%22text/html%3B%20charset%3DUTF-8%22%20/%3E%0A%20%20%20%20%0A%20%20%20%20%20%20%20%20%3Cscript%3E%0A%20%20%20%20%20%20%20%20%20%20%20%20L_NO_TOUCH%20%3D%20false%3B%0A%20%20%20%20%20%20%20%20%20%20%20%20L_DISABLE_3D%20%3D%20false%3B%0A%20%20%20%20%20%20%20%20%3C/script%3E%0A%20%20%20%20%0A%20%20%20%20%3Cstyle%3Ehtml%2C%20body%20%7Bwidth%3A%20100%25%3Bheight%3A%20100%25%3Bmargin%3A%200%3Bpadding%3A%200%3B%7D%3C/style%3E%0A%20%20%20%20%3Cstyle%3E%23map%20%7Bposition%3Aabsolute%3Btop%3A0%3Bbottom%3A0%3Bright%3A0%3Bleft%3A0%3B%7D%3C/style%3E%0A%20%20%20%20%3Cscript%20src%3D%22https%3A//cdn.jsdelivr.net/npm/leaflet%401.6.0/dist/leaflet.js%22%3E%3C/script%3E%0A%20%20%20%20%3Cscript%20src%3D%22https%3A//code.jquery.com/jquery-1.12.4.min.js%22%3E%3C/script%3E%0A%20%20%20%20%3Cscript%20src%3D%22https%3A//maxcdn.bootstrapcdn.com/bootstrap/3.2.0/js/bootstrap.min.js%22%3E%3C/script%3E%0A%20%20%20%20%3Cscript%20src%3D%22https%3A//cdnjs.cloudflare.com/ajax/libs/Leaflet.awesome-markers/2.0.2/leaflet.awesome-markers.js%22%3E%3C/script%3E%0A%20%20%20%20%3Clink%20rel%3D%22stylesheet%22%20href%3D%22https%3A//cdn.jsdelivr.net/npm/leaflet%401.6.0/dist/leaflet.css%22/%3E%0A%20%20%20%20%3Clink%20rel%3D%22stylesheet%22%20href%3D%22https%3A//maxcdn.bootstrapcdn.com/bootstrap/3.2.0/css/bootstrap.min.css%22/%3E%0A%20%20%20%20%3Clink%20rel%3D%22stylesheet%22%20href%3D%22https%3A//maxcdn.bootstrapcdn.com/bootstrap/3.2.0/css/bootstrap-theme.min.css%22/%3E%0A%20%20%20%20%3Clink%20rel%3D%22stylesheet%22%20href%3D%22https%3A//maxcdn.bootstrapcdn.com/font-awesome/4.6.3/css/font-awesome.min.css%22/%3E%0A%20%20%20%20%3Clink%20rel%3D%22stylesheet%22%20href%3D%22https%3A//cdnjs.cloudflare.com/ajax/libs/Leaflet.awesome-markers/2.0.2/leaflet.awesome-markers.css%22/%3E%0A%20%20%20%20%3Clink%20rel%3D%22stylesheet%22%20href%3D%22https%3A//cdn.jsdelivr.net/gh/python-visualization/folium/folium/templates/leaflet.awesome.rotate.min.css%22/%3E%0A%20%20%20%20%0A%20%20%20%20%20%20%20%20%20%20%20%20%3Cmeta%20name%3D%22viewport%22%20content%3D%22width%3Ddevice-width%2C%0A%20%20%20%20%20%20%20%20%20%20%20%20%20%20%20%20initial-scale%3D1.0%2C%20maximum-scale%3D1.0%2C%20user-scalable%3Dno%22%20/%3E%0A%20%20%20%20%20%20%20%20%20%20%20%20%3Cstyle%3E%0A%20%20%20%20%20%20%20%20%20%20%20%20%20%20%20%20%23map_665dc53c42164eeb91bb51ceee5acdbc%20%7B%0A%20%20%20%20%20%20%20%20%20%20%20%20%20%20%20%20%20%20%20%20position%3A%20relative%3B%0A%20%20%20%20%20%20%20%20%20%20%20%20%20%20%20%20%20%20%20%20width%3A%20100.0%25%3B%0A%20%20%20%20%20%20%20%20%20%20%20%20%20%20%20%20%20%20%20%20height%3A%20100.0%25%3B%0A%20%20%20%20%20%20%20%20%20%20%20%20%20%20%20%20%20%20%20%20left%3A%200.0%25%3B%0A%20%20%20%20%20%20%20%20%20%20%20%20%20%20%20%20%20%20%20%20top%3A%200.0%25%3B%0A%20%20%20%20%20%20%20%20%20%20%20%20%20%20%20%20%7D%0A%20%20%20%20%20%20%20%20%20%20%20%20%3C/style%3E%0A%20%20%20%20%20%20%20%20%0A%3C/head%3E%0A%3Cbody%3E%20%20%20%20%0A%20%20%20%20%0A%20%20%20%20%20%20%20%20%20%20%20%20%3Cdiv%20class%3D%22folium-map%22%20id%3D%22map_665dc53c42164eeb91bb51ceee5acdbc%22%20%3E%3C/div%3E%0A%20%20%20%20%20%20%20%20%0A%3C/body%3E%0A%3Cscript%3E%20%20%20%20%0A%20%20%20%20%0A%20%20%20%20%20%20%20%20%20%20%20%20var%20map_665dc53c42164eeb91bb51ceee5acdbc%20%3D%20L.map%28%0A%20%20%20%20%20%20%20%20%20%20%20%20%20%20%20%20%22map_665dc53c42164eeb91bb51ceee5acdbc%22%2C%0A%20%20%20%20%20%20%20%20%20%20%20%20%20%20%20%20%7B%0A%20%20%20%20%20%20%20%20%20%20%20%20%20%20%20%20%20%20%20%20center%3A%20%5B-3.73725%2C%20-51.59917%5D%2C%0A%20%20%20%20%20%20%20%20%20%20%20%20%20%20%20%20%20%20%20%20crs%3A%20L.CRS.EPSG3857%2C%0A%20%20%20%20%20%20%20%20%20%20%20%20%20%20%20%20%20%20%20%20zoom%3A%2012%2C%0A%20%20%20%20%20%20%20%20%20%20%20%20%20%20%20%20%20%20%20%20zoomControl%3A%20true%2C%0A%20%20%20%20%20%20%20%20%20%20%20%20%20%20%20%20%20%20%20%20preferCanvas%3A%20false%2C%0A%20%20%20%20%20%20%20%20%20%20%20%20%20%20%20%20%7D%0A%20%20%20%20%20%20%20%20%20%20%20%20%29%3B%0A%0A%20%20%20%20%20%20%20%20%20%20%20%20%0A%0A%20%20%20%20%20%20%20%20%0A%20%20%20%20%0A%20%20%20%20%20%20%20%20%20%20%20%20var%20tile_layer_542cfed729444d718685e53f9297d795%20%3D%20L.tileLayer%28%0A%20%20%20%20%20%20%20%20%20%20%20%20%20%20%20%20%22https%3A//%7Bs%7D.tile.openstreetmap.org/%7Bz%7D/%7Bx%7D/%7By%7D.png%22%2C%0A%20%20%20%20%20%20%20%20%20%20%20%20%20%20%20%20%7B%22attribution%22%3A%20%22Data%20by%20%5Cu0026copy%3B%20%5Cu003ca%20href%3D%5C%22http%3A//openstreetmap.org%5C%22%5Cu003eOpenStreetMap%5Cu003c/a%5Cu003e%2C%20under%20%5Cu003ca%20href%3D%5C%22http%3A//www.openstreetmap.org/copyright%5C%22%5Cu003eODbL%5Cu003c/a%5Cu003e.%22%2C%20%22detectRetina%22%3A%20false%2C%20%22maxNativeZoom%22%3A%2018%2C%20%22maxZoom%22%3A%2018%2C%20%22minZoom%22%3A%200%2C%20%22noWrap%22%3A%20false%2C%20%22opacity%22%3A%201%2C%20%22subdomains%22%3A%20%22abc%22%2C%20%22tms%22%3A%20false%7D%0A%20%20%20%20%20%20%20%20%20%20%20%20%29.addTo%28map_665dc53c42164eeb91bb51ceee5acdbc%29%3B%0A%20%20%20%20%20%20%20%20%0A%20%20%20%20%0A%0A%20%20%20%20%20%20%20%20function%20geo_json_db76485e49a74d77992ea57d51f81da1_onEachFeature%28feature%2C%20layer%29%20%7B%0A%20%20%20%20%20%20%20%20%20%20%20%20layer.on%28%7B%0A%20%20%20%20%20%20%20%20%20%20%20%20%7D%29%3B%0A%20%20%20%20%20%20%20%20%7D%3B%0A%20%20%20%20%20%20%20%20var%20geo_json_db76485e49a74d77992ea57d51f81da1%20%3D%20L.geoJson%28null%2C%20%7B%0A%20%20%20%20%20%20%20%20%20%20%20%20%20%20%20%20onEachFeature%3A%20geo_json_db76485e49a74d77992ea57d51f81da1_onEachFeature%2C%0A%20%20%20%20%20%20%20%20%20%20%20%20%0A%20%20%20%20%20%20%20%20%7D%29%3B%0A%0A%20%20%20%20%20%20%20%20function%20geo_json_db76485e49a74d77992ea57d51f81da1_add%20%28data%29%20%7B%0A%20%20%20%20%20%20%20%20%20%20%20%20geo_json_db76485e49a74d77992ea57d51f81da1%0A%20%20%20%20%20%20%20%20%20%20%20%20%20%20%20%20.addData%28data%29%0A%20%20%20%20%20%20%20%20%20%20%20%20%20%20%20%20.addTo%28map_665dc53c42164eeb91bb51ceee5acdbc%29%3B%0A%20%20%20%20%20%20%20%20%7D%0A%20%20%20%20%20%20%20%20%20%20%20%20geo_json_db76485e49a74d77992ea57d51f81da1_add%28%7B%22features%22%3A%20%5B%7B%22geometry%22%3A%20%7B%22coordinates%22%3A%20%5B%5B%5B-51.53815269470215%2C%20-3.731594888717665%5D%2C%20%5B-51.53815269470215%2C%20-3.731594888717665%5D%2C%20%5B-51.53815269470215%2C%20-3.731594888717665%5D%2C%20%5B-51.53815269470215%2C%20-3.731594888717665%5D%5D%5D%2C%20%22type%22%3A%20%22Polygon%22%7D%2C%20%22properties%22%3A%20%7B%7D%2C%20%22type%22%3A%20%22Feature%22%7D%2C%20%7B%22geometry%22%3A%20%7B%22coordinates%22%3A%20%5B%5B%5B-51.615571975708%2C%20-3.711295908643626%5D%2C%20%5B-51.615571975708%2C%20-3.711210257948569%5D%2C%20%5B-51.615571975708%2C%20-3.711210257948569%5D%2C%20%5B-51.615571975708%2C%20-3.711295908643626%5D%5D%5D%2C%20%22type%22%3A%20%22Polygon%22%7D%2C%20%22properties%22%3A%20%7B%7D%2C%20%22type%22%3A%20%22Feature%22%7D%2C%20%7B%22geometry%22%3A%20%7B%22coordinates%22%3A%20%5B%5B%5B-51.52716847649623%2C%20-3.721438237053742%5D%2C%20%5B-51.518757069025526%2C%20-3.721438237053742%5D%2C%20%5B-51.518757069025526%2C%20-3.716727410950261%5D%2C%20%5B-51.52716847649623%2C%20-3.716727410950261%5D%2C%20%5B-51.52716847649623%2C%20-3.721438237053742%5D%5D%5D%2C%20%22type%22%3A%20%22Polygon%22%7D%2C%20%22properties%22%3A%20%7B%7D%2C%20%22type%22%3A%20%22Feature%22%7D%5D%2C%20%22name%22%3A%20%22para_forest%22%2C%20%22type%22%3A%20%22FeatureCollection%22%7D%29%3B%0A%0A%20%20%20%20%20%20%20%20%0A%20%20%20%20%0A%0A%20%20%20%20%20%20%20%20function%20geo_json_2543b2df2b0c42608301b4d3aee84511_onEachFeature%28feature%2C%20layer%29%20%7B%0A%20%20%20%20%20%20%20%20%20%20%20%20layer.on%28%7B%0A%20%20%20%20%20%20%20%20%20%20%20%20%7D%29%3B%0A%20%20%20%20%20%20%20%20%7D%3B%0A%20%20%20%20%20%20%20%20var%20geo_json_2543b2df2b0c42608301b4d3aee84511%20%3D%20L.geoJson%28null%2C%20%7B%0A%20%20%20%20%20%20%20%20%20%20%20%20%20%20%20%20onEachFeature%3A%20geo_json_2543b2df2b0c42608301b4d3aee84511_onEachFeature%2C%0A%20%20%20%20%20%20%20%20%20%20%20%20%0A%20%20%20%20%20%20%20%20%7D%29%3B%0A%0A%20%20%20%20%20%20%20%20function%20geo_json_2543b2df2b0c42608301b4d3aee84511_add%20%28data%29%20%7B%0A%20%20%20%20%20%20%20%20%20%20%20%20geo_json_2543b2df2b0c42608301b4d3aee84511%0A%20%20%20%20%20%20%20%20%20%20%20%20%20%20%20%20.addData%28data%29%0A%20%20%20%20%20%20%20%20%20%20%20%20%20%20%20%20.addTo%28map_665dc53c42164eeb91bb51ceee5acdbc%29%3B%0A%20%20%20%20%20%20%20%20%7D%0A%20%20%20%20%20%20%20%20%20%20%20%20geo_json_2543b2df2b0c42608301b4d3aee84511_add%28%7B%22features%22%3A%20%5B%7B%22geometry%22%3A%20%7B%22coordinates%22%3A%20%5B%5B%5B-51.53815269470215%2C%20-3.731594888717665%5D%2C%20%5B-51.53815269470215%2C%20-3.731594888717665%5D%2C%20%5B-51.53815269470215%2C%20-3.731594888717665%5D%2C%20%5B-51.53815269470215%2C%20-3.731594888717665%5D%5D%5D%2C%20%22type%22%3A%20%22Polygon%22%7D%2C%20%22properties%22%3A%20%7B%7D%2C%20%22type%22%3A%20%22Feature%22%7D%2C%20%7B%22geometry%22%3A%20%7B%22coordinates%22%3A%20%5B%5B%5B-51.615571975708%2C%20-3.711295908643626%5D%2C%20%5B-51.615571975708%2C%20-3.711210257948569%5D%2C%20%5B-51.615571975708%2C%20-3.711210257948569%5D%2C%20%5B-51.615571975708%2C%20-3.711295908643626%5D%5D%5D%2C%20%22type%22%3A%20%22Polygon%22%7D%2C%20%22properties%22%3A%20%7B%7D%2C%20%22type%22%3A%20%22Feature%22%7D%2C%20%7B%22geometry%22%3A%20%7B%22coordinates%22%3A%20%5B%5B%5B-51.52093309206724%2C%20-3.741611969775029%5D%2C%20%5B-51.51561158938169%2C%20-3.741611969775029%5D%2C%20%5B-51.51561158938169%2C%20-3.737158246470395%5D%2C%20%5B-51.52093309206724%2C%20-3.737158246470395%5D%2C%20%5B-51.52093309206724%2C%20-3.741611969775029%5D%5D%5D%2C%20%22type%22%3A%20%22Polygon%22%7D%2C%20%22properties%22%3A%20%7B%7D%2C%20%22type%22%3A%20%22Feature%22%7D%5D%2C%20%22name%22%3A%20%22map%20%285%29%22%2C%20%22type%22%3A%20%22FeatureCollection%22%7D%29%3B%0A%0A%20%20%20%20%20%20%20%20%0A%3C/script%3E onload=\"this.contentDocument.open();this.contentDocument.write(    decodeURIComponent(this.getAttribute('data-html')));this.contentDocument.close();\" allowfullscreen webkitallowfullscreen mozallowfullscreen></iframe></div></div>"
      ],
      "text/plain": [
       "<folium.folium.Map at 0x14b415080>"
      ]
     },
     "execution_count": 113,
     "metadata": {},
     "output_type": "execute_result"
    }
   ],
   "source": [
    "# Display map \n",
    "m"
   ]
  },
  {
   "cell_type": "markdown",
   "metadata": {},
   "source": [
    "#### Now let's process Landsat and Sentinel imagery for the AOI.\n",
    "We will compute NDVI and reproject our NDVI and terrain corrected SAR image to EPSG:4326."
   ]
  },
  {
   "cell_type": "code",
   "execution_count": 114,
   "metadata": {},
   "outputs": [],
   "source": [
    "landsat_scene_ids = ['LC08_L1TP_225063_20171024_20200902_02_T1']"
   ]
  },
  {
   "cell_type": "code",
   "execution_count": 115,
   "metadata": {},
   "outputs": [],
   "source": [
    "sentinel_scene_ids = ['S1A_IW_20171018T090628_DVP_RTC30_G_gpuned_2111']"
   ]
  },
  {
   "cell_type": "code",
   "execution_count": 116,
   "metadata": {},
   "outputs": [],
   "source": [
    "def landsat_read(landsat_scene_id):\n",
    "    \n",
    "    \"\"\"\n",
    "    Function to read select Landsat 8 bands from granule. \n",
    "    \n",
    "    Select bands for NDVI are red (band 4) and near infrared (band 5).\n",
    "    \n",
    "    Returns: an image array for each band.\n",
    "    \"\"\"\n",
    "    \n",
    "    landsat_dir = os.path.join(root_dir,landsat_scene_id)\n",
    "    \n",
    "    if not os.path.exists(landsat_dir):\n",
    "        os.makedirs(landsat_dir)\n",
    "    \n",
    "    red_path = os.path.join(root_dir,landsat_scene_id+'_B4.TIF')\n",
    "    nir_path = os.path.join(root_dir,landsat_scene_id+'_B5.TIF')\n",
    "    qa_path = os.path.join(root_dir,landsat_scene_id+'_QA_PIXEL.TIF')\n",
    "    \n",
    "    xarr_red = rioxarray.open_rasterio(red_path)\n",
    "    xarr_nir = rioxarray.open_rasterio(nir_path)\n",
    "    \n",
    "    \n",
    "    return landsat_dir, xarr_red, xarr_nir, qa_path"
   ]
  },
  {
   "cell_type": "code",
   "execution_count": 117,
   "metadata": {},
   "outputs": [],
   "source": [
    "class Collection2_QAValues(Enum):\n",
    "    \"\"\"Collection 2 QA band info.\"\"\"\n",
    "\n",
    "    DesignatedFill = {\"out\": 1, \"bits\": (0, 0), \"binary\": True}\n",
    "    DilatedCloud = {\"out\": 8, \"bits\": (1, 1), \"binary\": True}\n",
    "    Cirrus = {\"out\": 7, \"bits\": (2, 2), \"binary\": True}\n",
    "    Cloud = {\"out\": 4, \"bits\": (3, 3), \"binary\": True}\n",
    "    CloudShadow = {\"out\": 5, \"bits\": (4, 4), \"binary\": True}\n",
    "    SnowIce = {\"out\": 6, \"bits\": (5, 5), \"binary\": True}\n",
    "    Clear = {\"out\": 0, \"bits\": (6, 6), \"binary\": True}\n",
    "    Water = {\"out\": 9, \"bits\": (7, 7), \"binary\": True}\n",
    "\n",
    "\n",
    "def _capture_bits(arr, b1, b2, binary):\n",
    "    width_int = int((b1 - b2 + 1) * \"1\", 2)\n",
    "    out = ((arr >> b2) & width_int).astype(\"uint8\")\n",
    "    return out == 1 if binary else out == 3\n",
    "\n",
    "\n",
    "def pixel_to_qa(data: numpy.ndarray, QAValues: Iterable) -> numpy.ndarray:\n",
    "    \"\"\"Convert DN to QA.\"\"\"\n",
    "    output_data = numpy.zeros(data.shape, dtype=numpy.uint16)\n",
    "    for qa in QAValues:\n",
    "        bits = qa.value[\"bits\"]\n",
    "        out = _capture_bits(data, bits[1], bits[0], qa.value[\"binary\"])\n",
    "        output_data[out] = qa.value[\"out\"]\n",
    "\n",
    "    return output_data"
   ]
  },
  {
   "cell_type": "code",
   "execution_count": 118,
   "metadata": {},
   "outputs": [],
   "source": [
    "def get_clear_qa_mask(qa_path):\n",
    "    with rioxarray.open_rasterio(qa_path, lock=False, chunks=(1, \"auto\", -1)) as qa:\n",
    "        qa = qa.rio.set_nodata(1)\n",
    "        qa = qa.sel(band=1)\n",
    "        mask = pixel_to_qa(qa.values, QAValues=Collection2_QAValues)\n",
    "        return mask == Collection2_QAValues.Clear.value['out']"
   ]
  },
  {
   "cell_type": "code",
   "execution_count": 119,
   "metadata": {},
   "outputs": [],
   "source": [
    "ndvi_arrays = []"
   ]
  },
  {
   "cell_type": "code",
   "execution_count": 120,
   "metadata": {},
   "outputs": [],
   "source": [
    "for l8 in landsat_scene_ids:\n",
    "    landsat_dir, red, nir, qa = landsat_read(l8)\n",
    "    meta.update(dtype=\"float32\")\n",
    "    # calculate NDVI from Landsat bands 4 and 5. \n",
    "    calc_ndvi = (nir-red)/(nir.astype(np.float32)+red)\n",
    "    # mask out clouds and get clear pixels\n",
    "    clear_mask = get_clear_qa_mask(qa)\n",
    "    # calculate and write NDVI to file.\n",
    "    ndvi_path = os.path.join(landsat_dir, l8+\"_NDVI.tif\")\n",
    "    ndvi = calc_ndvi.where(clear_mask)\n",
    "    ndvi = ndvi.rio.reproject(\"EPSG:4326\")\n",
    "    ndvi.rio.to_raster(os.path.join(landsat_dir, l8+\"_NDVI_4326.tif\"))\n",
    "    ndvi_arrays.append(ndvi)"
   ]
  },
  {
   "cell_type": "code",
   "execution_count": 121,
   "metadata": {},
   "outputs": [],
   "source": [
    "sar_arrays = []"
   ]
  },
  {
   "cell_type": "code",
   "execution_count": 122,
   "metadata": {},
   "outputs": [],
   "source": [
    "for s1 in sentinel_scene_ids:\n",
    "    sentinel_dir = os.path.join(root_dir,s1)\n",
    "    sar = rioxarray.open_rasterio(os.path.join(sentinel_dir, s1+\"_VV.tif\"))\n",
    "    sar = sar.rio.reproject(\"EPSG:4326\")\n",
    "    sar.rio.to_raster(os.path.join(sentinel_dir, s1+\"_VV_4326.tif\"))\n",
    "    sar_arrays.append(sar)"
   ]
  },
  {
   "cell_type": "markdown",
   "metadata": {},
   "source": [
    "#### Compute zonal statistics for each subset"
   ]
  },
  {
   "cell_type": "code",
   "execution_count": 128,
   "metadata": {},
   "outputs": [],
   "source": [
    "forest_distr_sar = zonal_stats(os.path.join(root_dir,'para_forest.geojson'), os.path.join(sentinel_dir, s1+\"_VV_4326.tif\"),\n",
    "            stats=\"std min mean max\")\n",
    "\n",
    "nonforest_distr_sar = zonal_stats(os.path.join(root_dir,'para_nonforest.geojson'), os.path.join(sentinel_dir, s1+\"_VV_4326.tif\"),\n",
    "            stats=\"std min mean max\")   \n",
    "\n",
    "forest_distr_ndvi = zonal_stats(os.path.join(root_dir,'para_forest.geojson'), os.path.join(landsat_dir, l8+\"_NDVI_4326.tif\"),\n",
    "            stats=\"std min mean max\")\n",
    "\n",
    "nonforest_distr_ndvi = zonal_stats(os.path.join(root_dir,'para_nonforest.geojson'), os.path.join(landsat_dir, l8+\"_NDVI_4326.tif\"),\n",
    "            stats=\"std min mean max\")"
   ]
  },
  {
   "cell_type": "code",
   "execution_count": 129,
   "metadata": {},
   "outputs": [
    {
     "data": {
      "text/plain": [
       "([{'std': None, 'min': None, 'mean': None, 'max': None},\n",
       "  {'std': None, 'min': None, 'mean': None, 'max': None},\n",
       "  {'min': 0.08856558799743652,\n",
       "   'max': 0.3436959385871887,\n",
       "   'mean': 0.2028768058067481,\n",
       "   'std': 0.042478119925853326}],\n",
       " [{'std': None, 'min': None, 'mean': None, 'max': None},\n",
       "  {'std': None, 'min': None, 'mean': None, 'max': None},\n",
       "  {'min': 0.05659851059317589,\n",
       "   'max': 0.20904742181301117,\n",
       "   'mean': 0.11591537522826771,\n",
       "   'std': 0.029560445353251683}],\n",
       " [{'std': None, 'min': None, 'mean': None, 'max': None},\n",
       "  {'std': None, 'min': None, 'mean': None, 'max': None},\n",
       "  {'min': 0.38964298367500305,\n",
       "   'max': 0.47777092456817627,\n",
       "   'mean': 0.434105220234095,\n",
       "   'std': 0.0174169704314475}],\n",
       " [{'std': None, 'min': None, 'mean': None, 'max': None},\n",
       "  {'std': None, 'min': None, 'mean': None, 'max': None},\n",
       "  {'min': 0.17727190256118774,\n",
       "   'max': 0.35812681913375854,\n",
       "   'mean': 0.2538168907165527,\n",
       "   'std': 0.02253473465528542}])"
      ]
     },
     "execution_count": 129,
     "metadata": {},
     "output_type": "execute_result"
    }
   ],
   "source": [
    "forest_distr_sar, nonforest_distr_sar, forest_distr_ndvi, nonforest_distr_ndvi"
   ]
  },
  {
   "cell_type": "markdown",
   "metadata": {},
   "source": [
    "#### Optional processing into clipped mosaics if one image frame doesn't cover your forest and non-forest sample areas"
   ]
  },
  {
   "cell_type": "code",
   "execution_count": 26,
   "metadata": {},
   "outputs": [],
   "source": [
    "# Function to mosaic L8 and S1 scenes for a single date to cover an AOI    \n",
    "merged_ndvi = merge_arrays(ndvi_arrays)\n",
    "merged_sar = merge_arrays(sar_arrays)"
   ]
  },
  {
   "cell_type": "code",
   "execution_count": 27,
   "metadata": {},
   "outputs": [],
   "source": [
    "# Function to rectify the offset in projection between Sentinel 1 and Landsat. \n",
    "# Uses Landsat as the reference image.\n",
    "merged_sar_repr_match = merged_sar.rio.reproject_match(merged_ndvi)"
   ]
  },
  {
   "cell_type": "code",
   "execution_count": 28,
   "metadata": {},
   "outputs": [],
   "source": [
    "# Brazil AOI\n",
    "\n",
    "geojson = '../data/smallAOIs/para_brazil_terrabrasilia.geojson'\n",
    "with open(geojson) as f:\n",
    "    data = json.load(f)\n",
    "    for feature in data['features']:\n",
    "        geometry = feature['geometry']\n",
    "        "
   ]
  },
  {
   "cell_type": "code",
   "execution_count": 29,
   "metadata": {},
   "outputs": [
    {
     "data": {
      "text/plain": [
       "{'type': 'Polygon',\n",
       " 'coordinates': [[[-53.525390625, -5.637852598770853],\n",
       "   [-50.64697265624999, -5.637852598770853],\n",
       "   [-50.64697265624999, -2.5809138477251743],\n",
       "   [-53.525390625, -2.5809138477251743],\n",
       "   [-53.525390625, -5.637852598770853]]]}"
      ]
     },
     "execution_count": 29,
     "metadata": {},
     "output_type": "execute_result"
    }
   ],
   "source": [
    "geometry"
   ]
  },
  {
   "cell_type": "code",
   "execution_count": 30,
   "metadata": {},
   "outputs": [],
   "source": [
    "# Function to clip the mosaics by an AOI geometry and write the images to file with the date suffixed in the filename.\n",
    "clipped_sar = merged_sar.rio.clip([geometry], \"EPSG:4326\") \n",
    "clipped_ndvi = merged_ndvi.rio.clip([geometry], \"EPSG:4326\") "
   ]
  },
  {
   "cell_type": "code",
   "execution_count": 38,
   "metadata": {},
   "outputs": [],
   "source": [
    "date_landsat = landsat_scene_ids[0][17:25]\n",
    "date_sentinel = sentinel_scene_ids[0][7:15]"
   ]
  },
  {
   "cell_type": "code",
   "execution_count": null,
   "metadata": {},
   "outputs": [],
   "source": [
    "# write images to file\n",
    "clipped_ndvi.rio.to_raster(os.path.join(landsat_dir,f\"merged_clipped_ndvi_{date_landsat}.tif\"))\n",
    "clipped_sar.rio.to_raster(os.path.join(sentinel_dir,f\"merged_clipped_sar_{date_sentinel}.tif\"))"
   ]
  },
  {
   "cell_type": "markdown",
   "metadata": {},
   "source": [
    "#### Create time series from clipped mosaics"
   ]
  },
  {
   "cell_type": "code",
   "execution_count": 47,
   "metadata": {},
   "outputs": [],
   "source": [
    "clipped_ndvi_1 = clipped_ndvi.copy() # copy the existing array for demo purposes\n",
    "clipped_sar_1 = clipped_sar.copy() # copy the existing array for demo purposes"
   ]
  },
  {
   "cell_type": "code",
   "execution_count": 48,
   "metadata": {},
   "outputs": [
    {
     "data": {
      "text/plain": [
       "('20170517', '20170515')"
      ]
     },
     "execution_count": 48,
     "metadata": {},
     "output_type": "execute_result"
    }
   ],
   "source": [
    "# print the dates we are working with for this demo\n",
    "date_landsat,date_sentinel"
   ]
  },
  {
   "cell_type": "code",
   "execution_count": 49,
   "metadata": {},
   "outputs": [],
   "source": [
    "list_dates_landsat = [20170517, 20170517] # same for demo purposes, normally would be a list of all of the dates available\n",
    "list_dates_sentinel = [20170515, 20170515] # same for demo purposes, normally would be a list of all of the dates available\n",
    "\n",
    "# in reality, use a for loop to get all of the dates from the filenames:\n",
    "\n",
    "\"\"\"\n",
    "for f in landsat_scene_ids:\n",
    "    date_landsat = f[0][17:25]\n",
    "    list_dates_landsat.append(date_landsat)\n",
    "\n",
    "    \n",
    "for f in sentinel_scene_ids:\n",
    "    date_sentinel = f[0][7:15]\n",
    "    list_dates_sentinel.append(date_sentinel)\n",
    "\"\"\""
   ]
  },
  {
   "cell_type": "code",
   "execution_count": 50,
   "metadata": {},
   "outputs": [],
   "source": [
    "clipped_ndvi_concat = xarray.concat([clipped_ndvi, clipped_ndvi_1], dim=pd.Index(list_dates_landsat, name='time'))\n",
    "clipped_sar_concat = xarray.concat([clipped_sar, clipped_sar_1], dim=pd.Index(list_dates_sentinel, name='time'))\n"
   ]
  },
  {
   "cell_type": "code",
   "execution_count": 51,
   "metadata": {},
   "outputs": [
    {
     "data": {
      "text/plain": [
       "((2, 1, 10361, 7285), (2, 1, 10533, 9201))"
      ]
     },
     "execution_count": 51,
     "metadata": {},
     "output_type": "execute_result"
    }
   ],
   "source": [
    "clipped_ndvi_concat.shape, clipped_sar_concat.shape"
   ]
  },
  {
   "cell_type": "markdown",
   "metadata": {},
   "source": [
    "#### Plot one of the SAR mosaics on our map"
   ]
  },
  {
   "cell_type": "code",
   "execution_count": null,
   "metadata": {},
   "outputs": [],
   "source": [
    "folium.raster_layers.ImageOverlay(merged_sar[0], \n",
    "                                  opacity=1, \n",
    "                                  bounds = [[-5.64271709, -53.137940554], [-2.782083644, -50.645837307]]).add_to(m)"
   ]
  },
  {
   "cell_type": "code",
   "execution_count": null,
   "metadata": {},
   "outputs": [],
   "source": [
    "# Display map \n",
    "m"
   ]
  },
  {
   "cell_type": "code",
   "execution_count": null,
   "metadata": {},
   "outputs": [],
   "source": []
  }
 ],
 "metadata": {
  "kernelspec": {
   "display_name": "pybayts",
   "language": "python",
   "name": "pybayts"
  },
  "language_info": {
   "codemirror_mode": {
    "name": "ipython",
    "version": 3
   },
   "file_extension": ".py",
   "mimetype": "text/x-python",
   "name": "python",
   "nbconvert_exporter": "python",
   "pygments_lexer": "ipython3",
   "version": "3.6.8"
  }
 },
 "nbformat": 4,
 "nbformat_minor": 4
}
