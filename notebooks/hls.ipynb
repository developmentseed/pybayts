{
 "cells": [
  {
   "cell_type": "code",
   "execution_count": null,
   "metadata": {
    "tags": []
   },
   "outputs": [],
   "source": [
    "import os\n",
    "import urllib\n",
    "\n",
    "import earthaccess\n",
    "import geopandas as gpd\n",
    "import matplotlib.pyplot as plt\n",
    "import numpy as np\n",
    "import pystac\n",
    "import pystac_client\n",
    "import shapely\n",
    "import stackstac\n",
    "import torchdata\n",
    "import xarray as xr\n",
    "import zen3geo\n",
    "\n",
    "from torch.utils.data import (  # allows us to load data in batches with multiple workers\n",
    "    DataLoader,\n",
    ")"
   ]
  },
  {
   "cell_type": "code",
   "execution_count": null,
   "metadata": {
    "tags": []
   },
   "outputs": [],
   "source": [
    "auth = earthaccess.login(persist=True)  # persist EDL login to netrc file"
   ]
  },
  {
   "attachments": {},
   "cell_type": "markdown",
   "metadata": {},
   "source": [
    "Rieche 2018 Fiji Lolol Pine Study Area\n",
    "\n",
    "https://www.mdpi.com/2072-4292/7/5/4973"
   ]
  },
  {
   "cell_type": "code",
   "execution_count": null,
   "metadata": {
    "tags": []
   },
   "outputs": [],
   "source": [
    "from pyproj import Transformer\n",
    "\n",
    "latitude = -17.578799\n",
    "longitude = 177.580173\n",
    "\n",
    "def latlon_to_utm_zone(latitude, longitude):\n",
    "    zone_number = int((longitude + 180) / 6) + 1\n",
    "    if latitude < 0:\n",
    "        hemisphere = 'S'\n",
    "        epsg_code = 32700 + zone_number\n",
    "    else:\n",
    "        hemisphere = 'N'\n",
    "        epsg_code = 32600 + zone_number\n",
    "    return zone_number, hemisphere, epsg_code\n",
    "\n",
    "\n",
    "def latlon_to_utm(lat, lon, epsg_code):\n",
    "    transformer = Transformer.from_crs(\"EPSG:4326\", f\"EPSG:{epsg_code}\")\n",
    "    x, y = transformer.transform(lat, lon)\n",
    "    return x, y\n",
    "\n",
    "def create_bbox(x, y, buffer_size):\n",
    "    x1 = x - buffer_size\n",
    "    y1 = y - buffer_size\n",
    "    x2 = x + buffer_size\n",
    "    y2 = y + buffer_size\n",
    "    return x1, y1, x2, y2\n",
    "\n",
    "\n",
    "utm_zone, hemisphere, epsg_code = latlon_to_utm_zone(latitude, longitude)\n",
    "x, y = latlon_to_utm(latitude, longitude, epsg_code)\n",
    "buffer_size = 5000  # Change this value to adjust the size of the bounding box\n",
    "bbox_utm = create_bbox(x, y, buffer_size)\n",
    "\n",
    "def bbox_to_latlon(epsg_code, x1, y1, x2, y2):\n",
    "    transformer = Transformer.from_crs(f\"EPSG:{epsg_code}\", \"EPSG:4326\", always_xy=True)\n",
    "    lat1, lon1 = transformer.transform(x1, y1)\n",
    "    lat2, lon2 = transformer.transform(x2, y2)\n",
    "    return lat1, lon1, lat2, lon2\n",
    "\n",
    "bbox_latlon = bbox_to_latlon(epsg_code, *bbox_utm)\n",
    "\n"
   ]
  },
  {
   "cell_type": "code",
   "execution_count": null,
   "metadata": {},
   "outputs": [],
   "source": [
    "bbox_utm"
   ]
  },
  {
   "cell_type": "code",
   "execution_count": null,
   "metadata": {
    "tags": []
   },
   "outputs": [],
   "source": [
    "bbox_latlon"
   ]
  },
  {
   "attachments": {},
   "cell_type": "markdown",
   "metadata": {},
   "source": [
    "We select a time range that works for Sentinel-2, post July 2015.\n",
    "\n",
    "The dates for the original study used Landsat and looked at January 2005-December 2007 for the training period and January 2008 - September 2010 for the Validation period."
   ]
  },
  {
   "cell_type": "code",
   "execution_count": null,
   "metadata": {
    "tags": []
   },
   "outputs": [],
   "source": [
    "time_range = [\"2022-01-01T00:00:00Z\", \"2023-05-10T23:59:59Z\"]\n",
    "collection_ids = [\"HLSL30.v2.0\"]  # Harmonized Landsat-8 Sentinel-2 (HLS)"
   ]
  },
  {
   "cell_type": "code",
   "execution_count": null,
   "metadata": {
    "tags": []
   },
   "outputs": [],
   "source": [
    "query = dict(bbox=list(bbox_latlon), datetime=time_range, collections=collection_ids)"
   ]
  },
  {
   "cell_type": "code",
   "execution_count": null,
   "metadata": {
    "tags": []
   },
   "outputs": [],
   "source": [
    "dp = torchdata.datapipes.iter.IterableWrapper(iterable=[query])\n",
    "dp_pystac_client = dp.search_for_pystac_item(\n",
    "    catalog_url=\"https://cmr.earthdata.nasa.gov/stac/LPCLOUD\",\n",
    ")"
   ]
  },
  {
   "cell_type": "code",
   "execution_count": null,
   "metadata": {
    "tags": []
   },
   "outputs": [],
   "source": [
    "def get_all_items(item_search) -> pystac.ItemCollection:\n",
    "    return item_search.items()"
   ]
  },
  {
   "cell_type": "code",
   "execution_count": null,
   "metadata": {
    "tags": []
   },
   "outputs": [],
   "source": [
    "dp_hls_items = dp_pystac_client.flatmap(fn=get_all_items)\n",
    "dp_hls_items"
   ]
  },
  {
   "cell_type": "code",
   "execution_count": null,
   "metadata": {
    "tags": []
   },
   "outputs": [],
   "source": [
    "it = iter(dp_hls_items)\n",
    "item = next(it)\n",
    "print(item)"
   ]
  },
  {
   "cell_type": "code",
   "execution_count": null,
   "metadata": {},
   "outputs": [],
   "source": [
    "def cloud_cover_filter(item: pystac.Item, threshold=20) -> bool:\n",
    "    \"\"\"\n",
    "    Return True if less than or equal to 20% cloud cover, else False.\n",
    "    \"\"\"\n",
    "    return item.properties[\"eo:cloud_cover\"] <= threshold\n"
   ]
  },
  {
   "cell_type": "code",
   "execution_count": null,
   "metadata": {},
   "outputs": [],
   "source": [
    "dp_hls_filtered = dp_hls_items.filter(filter_fn=cloud_cover_filter)"
   ]
  },
  {
   "cell_type": "code",
   "execution_count": null,
   "metadata": {},
   "outputs": [],
   "source": [
    "gdal_env = stackstac.DEFAULT_GDAL_ENV.updated(\n",
    "    always=dict(\n",
    "        GDAL_DISABLE_READDIR_ON_OPEN=\"EMPTY_DIR\",\n",
    "        GDAL_HTTP_MERGE_CONSECUTIVE_RANGES=\"YES\",\n",
    "        GDAL_HTTP_COOKIEFILE=os.path.expanduser(\"~/cookies.txt\"),\n",
    "        GDAL_HTTP_COOKIEJAR=os.path.expanduser(\"~/cookies.txt\"),\n",
    "    )\n",
    ")\n",
    "dp_hls_stack = dp_hls_filtered.stack_stac_items(\n",
    "    assets=[\"B04\", \"B03\", \"B02\"],  # RGB bands\n",
    "    epsg=32611,  # UTM Zone 11N\n",
    "    resolution=30,  # Spatial resolution of 30 metres\n",
    "    bounds_latlon=bbox_latlon,\n",
    "    xy_coords=\"center\",  # pixel centroid coords instead of topleft corner\n",
    "    dtype=np.float16,  # Use a lightweight data type\n",
    "    # https://github.com/gjoseph92/stackstac/issues/133\n",
    "    gdal_env=gdal_env,\n",
    ")\n",
    "dp_hls_stack"
   ]
  },
  {
   "cell_type": "code",
   "execution_count": null,
   "metadata": {},
   "outputs": [],
   "source": [
    "it = iter(dp_hls_stack)\n",
    "dataarray = next(it)\n",
    "print(dataarray)"
   ]
  },
  {
   "cell_type": "code",
   "execution_count": null,
   "metadata": {},
   "outputs": [],
   "source": [
    "dataarray.isel(time=0).plot.imshow(rgb=\"band\", robust=True)"
   ]
  },
  {
   "cell_type": "code",
   "execution_count": null,
   "metadata": {},
   "outputs": [],
   "source": [
    "torchdata.datapipes.utils.to_graph(dp=dp_hls_stack)"
   ]
  },
  {
   "cell_type": "code",
   "execution_count": null,
   "metadata": {},
   "outputs": [],
   "source": [
    "from datetime import datetime\n",
    "import matplotlib.pyplot as plt\n",
    "import xarray as xr\n",
    "import rioxarray as rx\n",
    "\n",
    "from pybayts.bayts import bayts_da_to_date_array\n",
    "from pybayts.bayts import create_bayts_ts\n",
    "from pybayts.bayts import deseason_ts\n",
    "from pybayts.bayts import loop_bayts_update\n",
    "from pybayts.bayts import merge_cpnf_tseries\n",
    "from pybayts.data.io import read_and_stack_example_tifs\n",
    "\n",
    "\n",
    "vv_folder = \"../tests/baytsdata/s1vv_tseries/\"\n",
    "ndvi_folder = \"../tests/baytsdata/lndvi_tseries/\"\n",
    "pdf_type_l = (\"gaussian\", \"gaussian\")\n",
    "chi = .9\n",
    "cpnf_min = .5\n",
    "pdf_forest_l = (0, 0.1)  # mean and sd\n",
    "pdf_nonforest_l = (-0.5, 0.125)  # mean and sd\n",
    "bwf_l = (0.1, 0.9)\n",
    "pdf_type_s = (\"gaussian\", \"gaussian\")\n",
    "pdf_forest_s = (-1, 0.75)  # mean and sd\n",
    "pdf_nonforest_s = (-4, 1)  # mean and sd\n",
    "bwf_s = (0.1, 0.9)\n"
   ]
  },
  {
   "cell_type": "code",
   "execution_count": null,
   "metadata": {},
   "outputs": [],
   "source": [
    "\n",
    "latitude = -17.32\n",
    "longitude = 177.37\n",
    "utm_zone = 60\n",
    "x, y = latlon_to_utm(latitude, longitude, epsg_code)\n",
    "print(x, y)\n"
   ]
  },
  {
   "cell_type": "code",
   "execution_count": null,
   "metadata": {},
   "outputs": [],
   "source": [
    "from pyproj import Transformer\n",
    "\n",
    "def convert_utm_to_latlon(utm_zones, x1, y1, x2, y2):\n",
    "    bbox_coordinates = []\n",
    "    for zone in utm_zones:\n",
    "        epsg_code = 32600 - zone  # 32700 is the EPSG code for WGS84 UTM zone 1S, subtract the zone number to get the correct EPSG code\n",
    "        transformer = Transformer.from_crs(f\"EPSG:{epsg_code}\", \"EPSG:4326\")\n",
    "        lat1, lon1 = transformer.transform(x1, y1)\n",
    "        lat2, lon2 = transformer.transform(x2, y2)\n",
    "        bbox_coordinates.append(((lat1, lon1), (lat2, lon2)))\n",
    "    return bbox_coordinates\n",
    "\n",
    "x1, y1 = 594_000, 8_000_500\n",
    "x2, y2 = 598_000, 8_002_500\n",
    "bbox_coordinates = convert_utm_to_latlon(fiji_zones, x1, y1, x2, y2)\n",
    "print(bbox_coordinates)\n"
   ]
  },
  {
   "cell_type": "code",
   "execution_count": null,
   "metadata": {},
   "outputs": [],
   "source": [
    "bbox_coordinates[0]"
   ]
  },
  {
   "cell_type": "code",
   "execution_count": null,
   "metadata": {},
   "outputs": [],
   "source": [
    "from shapely.geometry import box\n",
    "\n",
    "def get_bbox_centroids(bbox_coordinates):\n",
    "    centroids = []\n",
    "    for (lat1, lon1), (lat2, lon2) in bbox_coordinates:\n",
    "        bbox = box(lat1, lon1, lat2, lon2)\n",
    "        centroid = bbox.centroid\n",
    "        centroids.append((centroid.y, centroid.x))\n",
    "    return centroids\n",
    "\n",
    "centroids = get_bbox_centroids(bbox_coordinates)\n",
    "print(centroids)\n"
   ]
  },
  {
   "cell_type": "code",
   "execution_count": null,
   "metadata": {},
   "outputs": [],
   "source": [
    "\n",
    "s1vv_ts = read_and_stack_example_tifs(vv_folder, ds=\"vv\")\n",
    "s1vv_ts.name = \"s1vv\"\n",
    "\n",
    "lndvi_ts = read_and_stack_example_tifs(ndvi_folder, ds=\"lndvi\")\n",
    "lndvi_ts.name = \"lndvi\""
   ]
  }
 ],
 "metadata": {
  "kernelspec": {
   "display_name": "pybayts",
   "language": "python",
   "name": "python3"
  },
  "language_info": {
   "codemirror_mode": {
    "name": "ipython",
    "version": 3
   },
   "file_extension": ".py",
   "mimetype": "text/x-python",
   "name": "python",
   "nbconvert_exporter": "python",
   "pygments_lexer": "ipython3",
   "version": "3.11.3"
  }
 },
 "nbformat": 4,
 "nbformat_minor": 4
}
